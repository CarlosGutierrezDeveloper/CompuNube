{
 "cells": [
  {
   "cell_type": "code",
   "execution_count": 1,
   "id": "4e9d3a17-8126-450c-b2fa-7690d8841a22",
   "metadata": {},
   "outputs": [
    {
     "name": "stdout",
     "output_type": "stream",
     "text": [
      "Hello Mundo\n"
     ]
    }
   ],
   "source": [
    "print(\"Hello Mundo\")"
   ]
  },
  {
   "cell_type": "code",
   "execution_count": null,
   "id": "a505b943-e30f-40f9-9882-40cdf1e100c2",
   "metadata": {},
   "outputs": [],
   "source": []
  }
 ],
 "metadata": {
  "kernelspec": {
   "display_name": "Python 3 (ipykernel)",
   "language": "python",
   "name": "python3"
  },
  "language_info": {
   "codemirror_mode": {
    "name": "ipython",
    "version": 3
   },
   "file_extension": ".py",
   "mimetype": "text/x-python",
   "name": "python",
   "nbconvert_exporter": "python",
   "pygments_lexer": "ipython3",
   "version": "3.10.12"
  }
 },
 "nbformat": 4,
 "nbformat_minor": 5
}
